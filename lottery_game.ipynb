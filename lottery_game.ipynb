{
 "cells": [
  {
   "cell_type": "code",
   "execution_count": 149,
   "metadata": {},
   "outputs": [
    {
     "name": "stdout",
     "output_type": "stream",
     "text": [
      "[7, 25, 21, 41, 1, 22] [4]\n"
     ]
    }
   ],
   "source": [
    "import random\n",
    "\n",
    "number=[]\n",
    "count=0 \n",
    "\n",
    "while(count<7):\n",
    "    x=random.randint(1,45)\n",
    "    if(x not in number or count==0): #첫번째와 중복되는 경우 제외\n",
    "        number.append(x)\n",
    "        count+=1\n",
    "\n",
    "print(number[0:6],number[6:])"
   ]
  }
 ],
 "metadata": {
  "kernelspec": {
   "display_name": "Python 3",
   "language": "python",
   "name": "python3"
  },
  "language_info": {
   "codemirror_mode": {
    "name": "ipython",
    "version": 3
   },
   "file_extension": ".py",
   "mimetype": "text/x-python",
   "name": "python",
   "nbconvert_exporter": "python",
   "pygments_lexer": "ipython3",
   "version": "3.8.3"
  }
 },
 "nbformat": 4,
 "nbformat_minor": 4
}
